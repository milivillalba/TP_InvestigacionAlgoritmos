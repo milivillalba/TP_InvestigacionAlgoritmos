{
 "cells": [
  {
   "cell_type": "markdown",
   "metadata": {},
   "source": [
    "# Investigación de Algoritmos de Búsqueda🌟:\n",
    "\n",
    "- Busqueda Lineal:\n",
    "- Busqueda Binaria:\n",
    "\n"
   ]
  },
  {
   "cell_type": "markdown",
   "metadata": {},
   "source": [
    "### Busqueda Lineal:\n",
    "- La búsqueda lineal es un algoritmo sencillo que recorre una lista o arreglo de manera secuencial hasta encontrar el elemento buscado o llegar al final de la estructura de datos.\n",
    "\n",
    "- Complejidad de tiempo: O(n), donde n representa el tamaño de la lista.\n",
    "\n",
    "- No necesita ningún requisito especial previo, solo se requiere una lista o arreglo ordenado o desordenado.\n",
    "\n",
    "1. Ejemplo de Busqueda Lineal:\n",
    " - Para este ejemplo creé una función que pueda encontrar la posicion en la que esta el numero \"10\" que coloqué como prueba."
   ]
  },
  {
   "cell_type": "code",
   "execution_count": 7,
   "metadata": {},
   "outputs": [
    {
     "name": "stdout",
     "output_type": "stream",
     "text": [
      "El elemento 10 está en la posición 3.\n"
     ]
    }
   ],
   "source": [
    "def busqueda_lineal(arr, target):\n",
    "    for i in range(len(arr)):\n",
    "        if arr[i] == target:\n",
    "            return i\n",
    "    return -1\n",
    "\n",
    "# Ejemplo de uso:\n",
    "lista = [2, 5, 8, 10, 13]\n",
    "objetivo = 10\n",
    "resultado = busqueda_lineal(lista, objetivo)\n",
    "if resultado != -1:\n",
    "    print(f\"El elemento {objetivo} está en la posición {resultado}.\")\n",
    "else:\n",
    "    print(f\"El elemento {objetivo} no está en la lista.\")"
   ]
  },
  {
   "cell_type": "markdown",
   "metadata": {},
   "source": [
    "### Búsqueda Binaria:\n",
    "\n",
    "- La búsqueda binaria es un algoritmo más eficiente que la búsqueda lineal, pero necesita que la lista o arreglo esté ordenado.\n",
    "\n",
    "- El algoritmo parte el espacio de búsqueda por la mitad repetidamente hasta hallar el elemento.\n",
    "\n",
    "- Complejidad de tiempo: O(log n), donde n es el tamaño de la lista.\n",
    "\n",
    "- Requisito previo: la lista o arreglo debe estar ordenado de forma ascendente o descendente.\n",
    "\n",
    "2. Ejemplo de Búsqueda Binaria:\n",
    "  - Para este ejemplo cree una funcion que pueda encontrar la posicion en la que esta el numero \"8\" que coloqué como prueba."
   ]
  },
  {
   "cell_type": "code",
   "execution_count": 5,
   "metadata": {},
   "outputs": [
    {
     "name": "stdout",
     "output_type": "stream",
     "text": [
      "El elemento 8 está en la posición 2.\n"
     ]
    }
   ],
   "source": [
    "def busqueda_binaria(arr, target):\n",
    "    left = 0\n",
    "    right = len(arr) - 1\n",
    "    while left <= right:\n",
    "        mid = (left + right) // 2\n",
    "        if arr[mid] == target:\n",
    "            return mid\n",
    "        elif arr[mid] < target:\n",
    "            left = mid + 1\n",
    "        else:\n",
    "            right = mid - 1\n",
    "    return -1\n",
    "\n",
    "# Ejemplo de uso:\n",
    "lista = [2, 5, 8, 10, 13]\n",
    "objetivo = 8\n",
    "resultado = busqueda_binaria(lista, objetivo)\n",
    "if resultado != -1:\n",
    "    print(f\"El elemento {objetivo} está en la posición {resultado}.\")\n",
    "else:\n",
    "    print(f\"El elemento {objetivo} no está en la lista.\")"
   ]
  }
 ],
 "metadata": {
  "kernelspec": {
   "display_name": "Python 3",
   "language": "python",
   "name": "python3"
  },
  "language_info": {
   "codemirror_mode": {
    "name": "ipython",
    "version": 3
   },
   "file_extension": ".py",
   "mimetype": "text/x-python",
   "name": "python",
   "nbconvert_exporter": "python",
   "pygments_lexer": "ipython3",
   "version": "3.12.3"
  }
 },
 "nbformat": 4,
 "nbformat_minor": 2
}
